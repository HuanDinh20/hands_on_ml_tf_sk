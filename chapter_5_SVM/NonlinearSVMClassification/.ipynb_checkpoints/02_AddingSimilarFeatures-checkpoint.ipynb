{
 "cells": [
  {
   "cell_type": "markdown",
   "id": "09f02930",
   "metadata": {},
   "source": [
    "# Adding Similarity Features\n",
    "\n",
    "Another technique to tackle nonlinear problems\n",
    "\n",
    "##### Similarity function: \n",
    "1. measures how much each instance resembles a particular landmark. \n",
    "\n",
    "<img src='img2.png' witdh=630 height=900 />\n",
    "\n",
    "$Equation\\ 1.\\ GaussianRBF$\n",
    "\n",
    "It is a bell-shaped function varying from 0 (very far away from the landmark) to 1 (at the landmark).\n",
    "\n",
    "<img src='img3.png' witdh=630 height=900>\n",
    "\n",
    "$Figure\\ 1.\\ Similarity$\n",
    "\n",
    "for example x1=-2, x1=1, after sub in to equation 1. we recieve the similarity\n",
    "\n",
    "\n",
    "\n",
    "You may wonder how to select the landmarks. The simplest approach is to create a\n",
    "landmark at the location of each and every instance in the dataset. This creates many\n",
    "dimensions and thus increases the chances that the transformed training set will be\n",
    "linearly separable. The downside is that a training set with m instances and n features\n",
    "gets transformed into a training set with m instances and m features (assuming you\n",
    "drop the original features). If your training set is very large, you end up with an\n",
    "equally large number of features"
   ]
  },
  {
   "cell_type": "code",
   "execution_count": null,
   "id": "507546f1",
   "metadata": {},
   "outputs": [],
   "source": []
  }
 ],
 "metadata": {
  "kernelspec": {
   "display_name": "Python 3 (ipykernel)",
   "language": "python",
   "name": "python3"
  },
  "language_info": {
   "codemirror_mode": {
    "name": "ipython",
    "version": 3
   },
   "file_extension": ".py",
   "mimetype": "text/x-python",
   "name": "python",
   "nbconvert_exporter": "python",
   "pygments_lexer": "ipython3",
   "version": "3.9.7"
  }
 },
 "nbformat": 4,
 "nbformat_minor": 5
}
