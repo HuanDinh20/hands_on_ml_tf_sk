{
 "cells": [
  {
   "cell_type": "markdown",
   "id": "86fa8c32",
   "metadata": {},
   "source": [
    "# Polynomial Kernels\n",
    "\n",
    "\n",
    "Adding polynomial features is simple to implement and can work great with all sorts\n",
    "of Machine Learning algorithms. But:\n",
    "1. a low polynomial degree it cannot deal with very complex datasets.\n",
    "2. with a high polynomial degree it creates a huge number of features, making the model too slow.\n",
    "\n"
   ]
  },
  {
   "cell_type": "code",
   "execution_count": 1,
   "id": "f082cb8e",
   "metadata": {},
   "outputs": [],
   "source": [
    "from sklearn.svm import SVC\n",
    "from sklearn.pipeline import Pipeline\n",
    "from sklearn.preprocessing import StandardScaler\n",
    "from sklearn.datasets import make_moons\n"
   ]
  },
  {
   "cell_type": "code",
   "execution_count": 2,
   "id": "06b748d5",
   "metadata": {},
   "outputs": [],
   "source": [
    "X, y = make_moons()\n",
    "poly_svc = Pipeline([\n",
    "    ('scaler', StandardScaler()),\n",
    "    ('svc', SVC( kernel='poly', degree=3, coef0=1, C=5))\n",
    "])"
   ]
  },
  {
   "cell_type": "code",
   "execution_count": 8,
   "id": "8cfbbdaf",
   "metadata": {},
   "outputs": [],
   "source": [
    "poly_svc.fit(X, y)\n",
    "y_pred = poly_svc.predict(X)"
   ]
  },
  {
   "cell_type": "markdown",
   "id": "6261a030",
   "metadata": {},
   "source": [
    "$ kernel\\ trick  $ makes it possible to get the same result as if you added many polynomial features, even with very high\u0002degree polynomials, without actually having to add them. "
   ]
  },
  {
   "cell_type": "code",
   "execution_count": 7,
   "id": "0d157260",
   "metadata": {},
   "outputs": [
    {
     "data": {
      "text/plain": [
       "[<matplotlib.lines.Line2D at 0x1f292787ee0>]"
      ]
     },
     "execution_count": 7,
     "metadata": {},
     "output_type": "execute_result"
    },
    {
     "data": {
      "image/png": "[encoded data removed]",
      "text/plain": [
       "<Figure size 432x288 with 1 Axes>"
      ]
     },
     "metadata": {
      "needs_background": "light"
     },
     "output_type": "display_data"
    }
   ],
   "source": [
    "import matplotlib.pyplot as plt\n",
    "plt.plot(X[:,0][y==1], X[:,1][y==1], 'bs')\n",
    "plt.plot(X[:,0][y==0], X[:,1][y==0], 'g^')"
   ]
  },
  {
   "cell_type": "code",
   "execution_count": 16,
   "id": "0c9ff999",
   "metadata": {},
   "outputs": [
    {
     "data": {
      "text/plain": [
       "[<matplotlib.lines.Line2D at 0x1f2928dcca0>]"
      ]
     },
     "execution_count": 16,
     "metadata": {},
     "output_type": "execute_result"
    },
    {
     "data": {
      "image/png": "[encoded data removed]",
      "text/plain": [
       "<Figure size 432x288 with 1 Axes>"
      ]
     },
     "metadata": {
      "needs_background": "light"
     },
     "output_type": "display_data"
    }
   ],
   "source": [
    "plt.plot(X[:,0][y_pred==1], X[:,1][y_pred==1], 'bs')\n",
    "plt.plot(X[:,0][y_pred==0], X[:,1][y_pred==0], 'g^')"
   ]
  },
  {
   "cell_type": "code",
   "execution_count": 13,
   "id": "afe25b60",
   "metadata": {},
   "outputs": [],
   "source": [
    "support_vector = poly_svc['svc'].support_vectors_"
   ]
  },
  {
   "cell_type": "code",
   "execution_count": 23,
   "id": "7feff420",
   "metadata": {},
   "outputs": [
    {
     "data": {
      "text/plain": [
       "<matplotlib.collections.PathCollection at 0x1f292b9a520>"
      ]
     },
     "execution_count": 23,
     "metadata": {},
     "output_type": "execute_result"
    },
    {
     "data": {
      "image/png": "[encoded data removed]",
      "text/plain": [
       "<Figure size 432x288 with 1 Axes>"
      ]
     },
     "metadata": {
      "needs_background": "light"
     },
     "output_type": "display_data"
    }
   ],
   "source": [
    "plt.scatter(X[:, 0], X[:, 1])\n",
    "plt.scatter(support_vector[:, 0], support_vector[:, 1])"
   ]
  },
  {
   "cell_type": "markdown",
   "id": "b9029e9f",
   "metadata": {},
   "source": [
    "A common approach to find the right hyperparameter values is to use grid search.\n",
    "It is often faster to:\n",
    "1. first do a very coarse grid search, \n",
    "2. then a finer grid search around the best values found. \n",
    "\n",
    "Having a good sense of what each hyperparameter actually does can also help you search in the right part of the hyperparame‐\n",
    "ter space.\n"
   ]
  },
  {
   "cell_type": "code",
   "execution_count": null,
   "id": "d6607a07",
   "metadata": {},
   "outputs": [],
   "source": [
    "\n"
   ]
  },
  {
   "cell_type": "code",
   "execution_count": null,
   "id": "31d4234b",
   "metadata": {},
   "outputs": [],
   "source": []
  },
  {
   "cell_type": "code",
   "execution_count": null,
   "id": "a0ccc9c8",
   "metadata": {},
   "outputs": [],
   "source": []
  }
 ],
 "metadata": {
  "kernelspec": {
   "display_name": "Python 3 (ipykernel)",
   "language": "python",
   "name": "python3"
  },
  "language_info": {
   "codemirror_mode": {
    "name": "ipython",
    "version": 3
   },
   "file_extension": ".py",
   "mimetype": "text/x-python",
   "name": "python",
   "nbconvert_exporter": "python",
   "pygments_lexer": "ipython3",
   "version": "3.9.7"
  }
 },
 "nbformat": 4,
 "nbformat_minor": 5
}
