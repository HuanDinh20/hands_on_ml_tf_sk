{
 "cells": [
  {
   "cell_type": "markdown",
   "id": "608d78ef",
   "metadata": {},
   "source": [
    "# Computational Complexity\n",
    "The LinearSVC class is based on the liblinear library, which implements an optimized algorithm for linear SVMs. 1\n",
    " It does not support the kernel trick, but it scales almost linearly with the number of training instances and the number of features: its training time complexity is roughly O(m × n).\n",
    " \n",
    " The algorithm takes longer if you require a very high precision. This is controlled by the tolerance hyperparameter ϵ (called tol in Scikit-Learn). In most classification tasks, the default tolerance is fine.\n",
    "\n",
    "\n",
    "SVC : libsvm library -> support kernel tricks The training time complexity is usually between O(m^2 × n)and O(m^3 × n).\n",
    "\n",
    " * Unfortunately, this means that it gets dreadfully slow when the num‐ber of training instances gets large (e.g., hundreds of thousands of instances). This algorithm is perfect for complex but small or medium training sets.\n",
    " *  it scales well with the number of features, especially with sparse features (i.e., when each instance has few nonzero features). In this case, the algorithm scales roughly with the average number of nonzero features per instance.\n",
    "\n",
    "\n",
    "<img src=img5.png witdh=900 height=600/>"
   ]
  },
  {
   "cell_type": "code",
   "execution_count": null,
   "id": "a8f332cd",
   "metadata": {},
   "outputs": [],
   "source": []
  }
 ],
 "metadata": {
  "kernelspec": {
   "display_name": "Python 3 (ipykernel)",
   "language": "python",
   "name": "python3"
  },
  "language_info": {
   "codemirror_mode": {
    "name": "ipython",
    "version": 3
   },
   "file_extension": ".py",
   "mimetype": "text/x-python",
   "name": "python",
   "nbconvert_exporter": "python",
   "pygments_lexer": "ipython3",
   "version": "3.9.7"
  }
 },
 "nbformat": 4,
 "nbformat_minor": 5
}
