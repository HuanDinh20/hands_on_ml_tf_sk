{
 "cells": [
  {
   "cell_type": "markdown",
   "id": "17980d47",
   "metadata": {},
   "source": [
    "# The Curse of Dimensionality\n",
    "High dimensional datasets implies that most training instances are likely to be far away from each other.\n",
    "\n",
    "Of course, this also means that a new instancewill likely be far away from any training instance, making predictions much less reliable than in lower dimensions, since they will be based on much larger extrapolations.\n",
    "\n",
    "In short, the more dimensions the training set has, the greater the risk of overfitting it.\n",
    "\n",
    "In theory, one solution to the curse of dimensionality could be to increase the size of the training set to reach a sufficient density of training instances.\n",
    "\n",
    "Unfortunately, in practice, the number of training instances required to reach a given density grows\n",
    "exponentially with the number of dimensions.\n"
   ]
  },
  {
   "cell_type": "code",
   "execution_count": null,
   "id": "01842ad6",
   "metadata": {},
   "outputs": [],
   "source": []
  }
 ],
 "metadata": {
  "kernelspec": {
   "display_name": "Python 3 (ipykernel)",
   "language": "python",
   "name": "python3"
  },
  "language_info": {
   "codemirror_mode": {
    "name": "ipython",
    "version": 3
   },
   "file_extension": ".py",
   "mimetype": "text/x-python",
   "name": "python",
   "nbconvert_exporter": "python",
   "pygments_lexer": "ipython3",
   "version": "3.9.7"
  }
 },
 "nbformat": 4,
 "nbformat_minor": 5
}
