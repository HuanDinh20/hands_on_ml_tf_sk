{
 "cells": [
  {
   "cell_type": "markdown",
   "id": "60b3c3b8",
   "metadata": {},
   "source": [
    "# Main Approaches for Dimensionality Reduction\n",
    "\n",
    "Before we dive into specific dimensionality reduction algorithms, let’s take a look at the two main approaches to reducing dimensionality: projection and Manifold Learning.\n",
    "\n",
    "## Projection\n",
    "\n",
    "In most real-world problems, training instances are not spread out uniformly across\n",
    "all dimensions.\n",
    "\n",
    "Many features are almost constant, while others are highly correlated\n",
    "\n",
    "As a result, all training instances actually lie within (or close to) a much lower-dimensional subspace of the high-dimensional space\n",
    "\n",
    "<img src='img_2.png'>\n",
    "\n",
    " In Figure 8-2 you can see a 3D dataset represented by the circles.\n",
    " \n",
    " Notice that all training instances lie close to a plane: this is a lower-dimensional (2D) subspace of the high-dimensional (3D) space. Now if we project every training instance perpendicularly onto this subspace (as represented by the short lines connecting the instances to the plane), we get the new 2D dataset.\n",
    " \n",
    " <img src='img_3.png'>\n",
    " \n",
    " However, projection is not always the best approach to dimensionality reduction. In many cases the subspace may twist and turn, such as in the famous Swiss roll toy dataset\n",
    " \n",
    "  <img src='img_4.png'>\n",
    "  \n",
    " Simply projecting onto a plane (e.g., by dropping x3) would squash different layers of the Swiss roll together ( left of Figure 8-5), However, what you really want is to unroll the Swiss roll to obtain the 2D dataset on the right of Figure 8-5.\n",
    " \n",
    "   <img src='img_5.png'>\n",
    "   \n",
    "## Manifold Learning\n",
    "\n",
    "The Swiss roll is an example of a 2D manifold. Put simply, a 2D manifold is a 2D shape that can be bent and twisted in a higher-dimensional space.\n",
    "\n",
    "More generally, a d-dimensional manifold is a part of an n-dimensional space (where d < n) that locally\n",
    "resembles a d-dimensional hyperplane\n",
    "\n",
    "Many dimensionality reduction algorithms work by modeling the manifold on which the training instances lie; this is called Manifold Learning. \n",
    "\n",
    " It relies on the manifold assumption, also called the manifold hypothesis, which holds that most real-world\n",
    "high-dimensional datasets lie close to a much lower-dimensional manifold. This assumption is very often empirically observed\n",
    "\n",
    "The manifold assumption is often accompanied by another implicit assumption: that the task at hand (e.g., classification or regression) will be simpler if expressed in the lower-dimensional space of the manifold\n",
    "\n",
    "   <img src='img_6.png'>\n",
    "   \n",
    "For example, in the top row of Figure 8-6 the Swiss roll is split into two classes: in the 3D space (on the left), the decision\n",
    "boundary would be fairly complex, but in the 2D unrolled manifold space (on the right), the decision boundary is a simple straight line.\n",
    "\n",
    "\n",
    "However, this assumption does not always hold. For example, in the bottom row of Figure 8-6, the decision boundary is located at x1 = 5. This decision boundary looks very simple in the original 3D space (a vertical plane), but it looks more complex in\n",
    "the unrolled manifold (a collection of four independent line segments).\n",
    "\n",
    "\n",
    "In short, if you reduce the dimensionality of your training set before training a model, it will definitely speed up training, but it may not always lead to a better or simpler solution; it all depends on the dataset.\n",
    "\n"
   ]
  },
  {
   "cell_type": "code",
   "execution_count": null,
   "id": "edc08de3",
   "metadata": {},
   "outputs": [],
   "source": []
  }
 ],
 "metadata": {
  "kernelspec": {
   "display_name": "Python 3 (ipykernel)",
   "language": "python",
   "name": "python3"
  },
  "language_info": {
   "codemirror_mode": {
    "name": "ipython",
    "version": 3
   },
   "file_extension": ".py",
   "mimetype": "text/x-python",
   "name": "python",
   "nbconvert_exporter": "python",
   "pygments_lexer": "ipython3",
   "version": "3.9.7"
  }
 },
 "nbformat": 4,
 "nbformat_minor": 5
}
