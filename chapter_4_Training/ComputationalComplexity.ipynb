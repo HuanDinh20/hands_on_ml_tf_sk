{
 "cells": [
  {
   "cell_type": "markdown",
   "id": "f40e6d9d",
   "metadata": {},
   "source": [
    "# Computational Complexity\n",
    "The Normal Equation computes the inverse of XT · X, which is an n × n matrix\n",
    "(where n is the number of features). The computational complexity of inverting such a\n",
    "matrix is typically about O(n^(2x4)) to O(n^3) (depending on the implementation). In\n",
    "other words, if you double the number of features, you multiply the computation\n",
    "time by roughly 22.4 = 5.3 to 23 = 8."
   ]
  },
  {
   "cell_type": "markdown",
   "id": "c092977f",
   "metadata": {},
   "source": [
    "Also, once you have trained your Linear Regression model (using the Normal Equa‐\n",
    "tion or any other algorithm), predictions are very fast: the computational complexity\n",
    "is linear with regards to both the number of instances you want to make predictions\n",
    "on and the number of features. In other words, making predictions on twice as many\n",
    "instances (or twice as many features) will just take roughly twice as much time."
   ]
  },
  {
   "cell_type": "code",
   "execution_count": null,
   "id": "30936b5a",
   "metadata": {},
   "outputs": [],
   "source": []
  }
 ],
 "metadata": {
  "kernelspec": {
   "display_name": "Python 3 (ipykernel)",
   "language": "python",
   "name": "python3"
  },
  "language_info": {
   "codemirror_mode": {
    "name": "ipython",
    "version": 3
   },
   "file_extension": ".py",
   "mimetype": "text/x-python",
   "name": "python",
   "nbconvert_exporter": "python",
   "pygments_lexer": "ipython3",
   "version": "3.9.7"
  }
 },
 "nbformat": 4,
 "nbformat_minor": 5
}
