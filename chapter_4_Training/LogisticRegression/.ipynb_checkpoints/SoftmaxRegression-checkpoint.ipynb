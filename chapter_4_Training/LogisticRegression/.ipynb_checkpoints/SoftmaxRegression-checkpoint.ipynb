{
 "cells": [
  {
   "attachments": {},
   "cell_type": "markdown",
   "id": "1fad3cca",
   "metadata": {},
   "source": [
    "# Softmax Regression\n",
    "The Logistic Regression model can be generalized to support multiple classes directly,\n",
    "without having to train and combine multiple binary classifiers. This is called Sotfmax Regression, or Multinomial Logistic Regression.\n",
    "\n",
    "<img src=\"figure420.png\" witdh=720 height=720 />\n",
    "\n",
    "\n",
    "<img src=\"figure421.png\" witdh=720 height=720>\n",
    "\n",
    "<img src=\"figure422.png\" witdh=720 height=720 />\n",
    "\n",
    "\n",
    "The Softmax Regression classifier predicts only one class at a time\n",
    "(i.e., it is multiclass, not multioutput) so it should be used only with\n",
    "mutually exclusive classes such as different types of plants. You\n",
    "cannot use it to recognize multiple people in one picture"
   ]
  },
  {
   "attachments": {},
   "cell_type": "markdown",
   "id": "acfb1ca6",
   "metadata": {},
   "source": [
    "### Cross Entropy\n",
    "\n",
    "##### Cross entropy is frequently used to measure how well a set of estimated class probabilities match the target classes.\n",
    " \n",
    "<img src=\"figure423.png\" witdh=720 height=720 />\n",
    "\n",
    "<img src=\"figure424.png\" witdh=720 height=720 />\n"
   ]
  },
  {
   "cell_type": "code",
   "execution_count": 1,
   "id": "835fde14",
   "metadata": {},
   "outputs": [
    {
     "data": {
      "text/plain": [
       "array([2])"
      ]
     },
     "execution_count": 1,
     "metadata": {},
     "output_type": "execute_result"
    }
   ],
   "source": [
    "from sklearn.datasets import load_iris\n",
    "from sklearn.linear_model import LogisticRegression\n",
    "iris = load_iris()\n",
    "X = iris[\"data\"][:, (2, 3)] # petal length, petal width\n",
    "y = iris[\"target\"]\n",
    "softmax_reg = LogisticRegression(multi_class=\"multinomial\",solver=\"lbfgs\", C=10)\n",
    "softmax_reg.fit(X, y)\n",
    "softmax_reg.predict([[5, 2]])"
   ]
  },
  {
   "cell_type": "code",
   "execution_count": 2,
   "id": "32829317",
   "metadata": {},
   "outputs": [
    {
     "data": {
      "text/plain": [
       "array([[6.38014896e-07, 5.74929995e-02, 9.42506362e-01]])"
      ]
     },
     "execution_count": 2,
     "metadata": {},
     "output_type": "execute_result"
    }
   ],
   "source": [
    "softmax_reg.predict_proba([[5, 2]])"
   ]
  },
  {
   "cell_type": "code",
   "execution_count": null,
   "id": "2a8aada2",
   "metadata": {},
   "outputs": [],
   "source": []
  }
 ],
 "metadata": {
  "kernelspec": {
   "display_name": "Python 3 (ipykernel)",
   "language": "python",
   "name": "python3"
  },
  "language_info": {
   "codemirror_mode": {
    "name": "ipython",
    "version": 3
   },
   "file_extension": ".py",
   "mimetype": "text/x-python",
   "name": "python",
   "nbconvert_exporter": "python",
   "pygments_lexer": "ipython3",
   "version": "3.9.7"
  }
 },
 "nbformat": 4,
 "nbformat_minor": 5
}
