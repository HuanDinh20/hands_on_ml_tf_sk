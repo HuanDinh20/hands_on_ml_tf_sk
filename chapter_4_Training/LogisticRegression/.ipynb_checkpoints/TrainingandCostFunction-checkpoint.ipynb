{
 "cells": [
  {
   "attachments": {},
   "cell_type": "markdown",
   "id": "ec35c965",
   "metadata": {},
   "source": [
    "# Training and Cost Function\n",
    "\n",
    "A Logistic Regression model estimates probabilities and makes predictions.\n",
    "\n",
    "<img src=\"figure416.png\" width=722 height=722 />\n",
    "\n",
    "\n",
    " * This cost function makes sense because – log(t) grows very large when t approaches 0, so the cost will be large if the model estimates a probability close to 0 for a positive instance\n",
    " * It will also be very large if the model estimates a probability close to 1 for a negative instance.\n",
    "\n",
    "<img src=\"figure417.png\" width=722 height=722 />\n",
    "\n",
    "<img src=\"figure418.png\" width=722 height=722 />"
   ]
  }
 ],
 "metadata": {
  "kernelspec": {
   "display_name": "Python 3 (ipykernel)",
   "language": "python",
   "name": "python3"
  },
  "language_info": {
   "codemirror_mode": {
    "name": "ipython",
    "version": 3
   },
   "file_extension": ".py",
   "mimetype": "text/x-python",
   "name": "python",
   "nbconvert_exporter": "python",
   "pygments_lexer": "ipython3",
   "version": "3.9.7"
  }
 },
 "nbformat": 4,
 "nbformat_minor": 5
}
