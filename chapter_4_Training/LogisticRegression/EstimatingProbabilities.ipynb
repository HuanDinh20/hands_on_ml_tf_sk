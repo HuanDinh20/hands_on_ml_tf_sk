{
 "cells": [
  {
   "cell_type": "markdown",
   "metadata": {
    "collapsed": true,
    "pycharm": {
     "name": "#%%\n"
    }
   },
   "source": [
    "# Logistic Regression\n",
    "\n",
    "Logistic Regression (also called Logit Regression) is com‐\n",
    "monly used to estimate the probability that an instance belongs to a particular class\n",
    "\n",
    "A Logistic Regression model computes a weighted sum of the input features (plus a bias term), but instead\n",
    "of outputting the result directly like the Linear Regression model does, it outputs the\n",
    "logistic of this result\n",
    "\n",
    "<img src=\"figure413.png\" width=722 height=722 />\n",
    "\n",
    "The logistic—also called the logit, noted $ \\sigma (.) $—is a sigmoid function\n",
    "\n",
    "<img src=\"figure414.png\" width=722 height=722 />\n",
    "\n",
    "\n",
    "Once the Logistic Regression model has estimated the probability p = hθ(x) that an\n",
    "instance x belongs to the positive class, it can make its prediction ŷ easily\n",
    "\n",
    "<img src=\"figure415.png\" width=722 height=722 />\n",
    "\n",
    "a Logistic Regression\n",
    "model predicts 1 if $ θ^T $· x is positive, and 0 if it is negative."
   ]
  },
  {
   "cell_type": "code",
   "execution_count": null,
   "metadata": {},
   "outputs": [],
   "source": []
  }
 ],
 "metadata": {
  "kernelspec": {
   "display_name": "Python 3 (ipykernel)",
   "language": "python",
   "name": "python3"
  },
  "language_info": {
   "codemirror_mode": {
    "name": "ipython",
    "version": 3
   },
   "file_extension": ".py",
   "mimetype": "text/x-python",
   "name": "python",
   "nbconvert_exporter": "python",
   "pygments_lexer": "ipython3",
   "version": "3.9.7"
  }
 },
 "nbformat": 4,
 "nbformat_minor": 1
}