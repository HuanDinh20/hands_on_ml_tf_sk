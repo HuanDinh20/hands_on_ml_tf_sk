{
 "cells": [
  {
   "cell_type": "markdown",
   "id": "2dae8ce6",
   "metadata": {},
   "source": [
    "# Ensemble Learning and Random Forests\n",
    "\n",
    "\n",
    "Suppose you ask a complex question to thousands of random people, then aggregate\n",
    "their answers. In many cases you will find that this aggregated answer is better than\n",
    "an expert’s answer.\n",
    "\n",
    "This is called the *wisdom of the crowd*\n",
    "\n",
    "Similarly, if you aggregate the predictions of a group of predictors (such as classifiers or regressors), you will\n",
    "often get better predictions than with the best individual predictor.\n",
    "\n",
    "\n",
    "*Ensemble* : A group of predictors\n",
    "\n",
    "*Ensemble Learning*: the technique\n",
    "\n",
    "*Ensemble method*: an Ensemble Learning algorithm\n",
    "\n",
    "In this chapter, we will discuss some popular ensemble methods:\n",
    "1. Bagging\n",
    "2. Boosting\n",
    "3. Stacking\n"
   ]
  },
  {
   "cell_type": "code",
   "execution_count": null,
   "id": "6be57eda",
   "metadata": {},
   "outputs": [],
   "source": []
  }
 ],
 "metadata": {
  "kernelspec": {
   "display_name": "Python 3 (ipykernel)",
   "language": "python",
   "name": "python3"
  },
  "language_info": {
   "codemirror_mode": {
    "name": "ipython",
    "version": 3
   },
   "file_extension": ".py",
   "mimetype": "text/x-python",
   "name": "python",
   "nbconvert_exporter": "python",
   "pygments_lexer": "ipython3",
   "version": "3.9.7"
  }
 },
 "nbformat": 4,
 "nbformat_minor": 5
}
