{
 "cells": [
  {
   "cell_type": "markdown",
   "id": "9fc2197a",
   "metadata": {},
   "source": [
    "# Random Forests\n",
    "\n",
    "A Random Forest is an ensemble of Decision Trees, generally trained via the bagging method (or sometimes pasting), typically with max_samples set to the size of the training set. Instead of building a BaggingClassifier and passing it a DecisionTreeClassifier, you can instead use the RandomForestClassifier class, which is more convenient and optimized for Decision Tree\n",
    "\n",
    "Random Forests = bagging + decision tree + optimized for decision tree"
   ]
  },
  {
   "cell_type": "code",
   "execution_count": 10,
   "id": "7efe8f1e",
   "metadata": {},
   "outputs": [],
   "source": [
    "from sklearn.ensemble import RandomForestClassifier, BaggingClassifier\n",
    "from sklearn.datasets import load_iris\n",
    "from sklearn.model_selection import train_test_split\n",
    "from sklearn.metrics import accuracy_score\n",
    "from sklearn.tree import DecisionTreeClassifier"
   ]
  },
  {
   "cell_type": "code",
   "execution_count": 4,
   "id": "c2a2c611",
   "metadata": {},
   "outputs": [],
   "source": [
    "data = load_iris()\n",
    "X_train, X_test, y_train, y_test = train_test_split(data.data, data.target, train_size=0.7)"
   ]
  },
  {
   "cell_type": "code",
   "execution_count": 6,
   "id": "60eb44c4",
   "metadata": {},
   "outputs": [],
   "source": [
    "rnd_clf = RandomForestClassifier(n_estimators=500, max_leaf_nodes=16, n_jobs=-1)"
   ]
  },
  {
   "cell_type": "code",
   "execution_count": 8,
   "id": "43e7a667",
   "metadata": {},
   "outputs": [
    {
     "name": "stdout",
     "output_type": "stream",
     "text": [
      "RandomForestClassifier Accuracy:  0.9333333333333333\n"
     ]
    }
   ],
   "source": [
    "rnd_clf.fit(X_train, y_train)\n",
    "print(\"RandomForestClassifier Accuracy: \", accuracy_score(rnd_clf.predict(X_test), y_test))"
   ]
  },
  {
   "cell_type": "code",
   "execution_count": 12,
   "id": "b024a822",
   "metadata": {},
   "outputs": [
    {
     "name": "stdout",
     "output_type": "stream",
     "text": [
      "BaggingClassifier Accuracy:  0.9777777777777777\n"
     ]
    }
   ],
   "source": [
    "bag_clf = BaggingClassifier(DecisionTreeClassifier(splitter=\"random\", max_leaf_nodes=16), \n",
    "                           n_estimators=500,  n_jobs=-1, max_samples=1.0, bootstrap=True)\n",
    "\n",
    "bag_clf.fit(X_train, y_train)\n",
    "print(\"BaggingClassifier Accuracy: \", accuracy_score(bag_clf.predict(X_test), y_test))"
   ]
  },
  {
   "cell_type": "markdown",
   "id": "d5ac30f4",
   "metadata": {},
   "source": [
    "## Extra-Trees\n",
    "\n",
    "When you are growing a tree in a Random Forest, at each node only a random subset of the features is considered for splitting.\n",
    "\n",
    "It is possible to make trees even more random by also using random thresholds for each feature rather than\n",
    "searching for the best possible thresholds.\n",
    "\n",
    "*Extremely Randomized Trees ensemble* = Extra-Trees: A forest of such extremely random trees\n",
    "\n",
    "* Trade more bias for a lower variance\n",
    "* much faster to train than a regular random forest since finding the best possible threshold for each feature at every node is one of the most time-consuming tasks of growing a tree\n",
    "\n",
    "\n",
    "You can create an Extra-Trees classifier using Scikit-Learn’s ExtraTreesClassifier\n",
    "class. Its API is identical to the RandomForestClassifier class. Similarly, the Extra\n",
    "TreesRegressor class has the same API as the RandomForestRegressor class.\n",
    "\n",
    "\n",
    "`\n",
    "It is hard to tell in advance whether a RandomForestClassifier will perform better or worse than an ExtraTreesClassifier. Generally, the only way to know is to try both and compare them using cross-validation (and tuning the hyperparameters using grid search).\n",
    "`"
   ]
  },
  {
   "cell_type": "markdown",
   "id": "ca3b6940",
   "metadata": {},
   "source": [
    "## Feature Importance\n",
    "Yet another great quality of Random Forests is that they make it easy to measure the relative importance of each feature.\n",
    "\n",
    "Scikit-Learn measures a feature’s importance by looking at how much the tree nodes that use that feature reduce impurity on average\n",
    "\n",
    "More precisely, it is a weighted average, where each node’s weight is equal to the number of training samples that are associated with it\n",
    "\n",
    "Scikit-Learn computes this score automatically for each feature after training, then it scales the results so that the sum of all importances is equal to 1.\n",
    "\n",
    "You can access the result using the feature_importances_ variable"
   ]
  },
  {
   "cell_type": "code",
   "execution_count": 15,
   "id": "e594d36b",
   "metadata": {},
   "outputs": [
    {
     "name": "stdout",
     "output_type": "stream",
     "text": [
      "sepal length (cm) 0.0993712922214165\n",
      "sepal width (cm) 0.020775976507647106\n",
      "petal length (cm) 0.47922060498580893\n",
      "petal width (cm) 0.4006321262851274\n"
     ]
    }
   ],
   "source": [
    "for name,  score in zip(data['feature_names'], rnd_clf.feature_importances_):\n",
    "    print(name, score)"
   ]
  },
  {
   "cell_type": "code",
   "execution_count": 27,
   "id": "62859f93",
   "metadata": {},
   "outputs": [
    {
     "data": {
      "image/png": "[encoded data removed]",
      "text/plain": [
       "<Figure size 432x288 with 1 Axes>"
      ]
     },
     "metadata": {
      "needs_background": "light"
     },
     "output_type": "display_data"
    }
   ],
   "source": [
    "import numpy as np\n",
    "import pandas as pd\n",
    "import matplotlib.pyplot as plt\n",
    "importances = rnd_clf.feature_importances_\n",
    "std = np.std(importances)\n",
    "forest_importances = pd.Series(importances, index=data.feature_names)\n",
    "fig, ax = plt.subplots()\n",
    "forest_importances.plot.bar(yerr=std, ax=ax)\n",
    "ax.set_title('Feature importances')\n",
    "ax.set_ylabel('Mean decrease in impurity')\n",
    "fig.tight_layout()"
   ]
  },
  {
   "cell_type": "code",
   "execution_count": 24,
   "id": "a2da5a86",
   "metadata": {},
   "outputs": [
    {
     "data": {
      "text/plain": [
       "array([0.09937129, 0.02077598, 0.4792206 , 0.40063213])"
      ]
     },
     "execution_count": 24,
     "metadata": {},
     "output_type": "execute_result"
    }
   ],
   "source": [
    "rnd_clf.feature_importances_"
   ]
  },
  {
   "cell_type": "code",
   "execution_count": 25,
   "id": "8e077071",
   "metadata": {},
   "outputs": [
    {
     "data": {
      "text/plain": [
       "['sepal length (cm)',\n",
       " 'sepal width (cm)',\n",
       " 'petal length (cm)',\n",
       " 'petal width (cm)']"
      ]
     },
     "execution_count": 25,
     "metadata": {},
     "output_type": "execute_result"
    }
   ],
   "source": [
    "data.feature_names"
   ]
  },
  {
   "cell_type": "code",
   "execution_count": 26,
   "id": "4248d97d",
   "metadata": {},
   "outputs": [
    {
     "data": {
      "text/plain": [
       "sepal length (cm)    0.099371\n",
       "sepal width (cm)     0.020776\n",
       "petal length (cm)    0.479221\n",
       "petal width (cm)     0.400632\n",
       "dtype: float64"
      ]
     },
     "execution_count": 26,
     "metadata": {},
     "output_type": "execute_result"
    }
   ],
   "source": [
    "pd.Series(importances, index=data.feature_names)"
   ]
  },
  {
   "cell_type": "markdown",
   "id": "c27c036f",
   "metadata": {},
   "source": [
    "<img src='img_6.png'>"
   ]
  },
  {
   "cell_type": "code",
   "execution_count": null,
   "id": "15a73664",
   "metadata": {},
   "outputs": [],
   "source": []
  }
 ],
 "metadata": {
  "kernelspec": {
   "display_name": "Python 3 (ipykernel)",
   "language": "python",
   "name": "python3"
  },
  "language_info": {
   "codemirror_mode": {
    "name": "ipython",
    "version": 3
   },
   "file_extension": ".py",
   "mimetype": "text/x-python",
   "name": "python",
   "nbconvert_exporter": "python",
   "pygments_lexer": "ipython3",
   "version": "3.9.7"
  }
 },
 "nbformat": 4,
 "nbformat_minor": 5
}
