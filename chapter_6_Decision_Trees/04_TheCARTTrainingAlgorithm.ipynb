{
 "cells": [
  {
   "cell_type": "markdown",
   "id": "9c7044ea",
   "metadata": {},
   "source": [
    "# CART: Classification and Regression Tree\n",
    "\n",
    "Scikit-Learn uses the Classification And Regression Tree (CART) algorithm to train\n",
    "Decision Trees.The idea is really quite simple:\n",
    "1. the algorithm first splits the training set in two subsets using:\n",
    "    * a single feature k and \n",
    "    * a threshold $t_k$\n",
    "    * (e.g., “petal length ≤ 2.45 cm”)\n",
    "    \n",
    "2. How does it choose k and tk?\n",
    "    * It searches for thepair (k, $t_k$) that produces the purest subsets (weighted by their size).\n",
    "    \n",
    "The cost function that the algorithm tries to minimize is given by Equation 6-2\n",
    "<img src='img4.png'>\n",
    " "
   ]
  },
  {
   "cell_type": "markdown",
   "id": "76ab945a",
   "metadata": {},
   "source": [
    "Once it has successfully split the training set in two, it splits the subsets using the same logic, then the sub-subsets and so on, recursively. It stops recursing once it reaches the maximum depth (defined by the *max_depth* hyperparameter), or if it cannot find a split that will reduce impurity. \n",
    "\n",
    "A few other hyperparameters control additional stopping conditions:\n",
    "1. min_samples_split\n",
    "2. min_samples_leaf\n",
    "3. min_weight_fraction_leaf\n",
    "4. max_leaf_nodes\n",
    "\n",
    "`\n",
    "As you can see, the CART algorithm is a greedy algorithm: it greed‐\n",
    "ily searches for an optimum split at the top level, then repeats the\n",
    "process at each level. It does not check whether or not the split will\n",
    "lead to the lowest possible impurity several levels down. A greedy\n",
    "algorithm often produces a reasonably good solution, but it is not\n",
    "guaranteed to be the optimal solution`"
   ]
  },
  {
   "cell_type": "markdown",
   "id": "9d83c04c",
   "metadata": {},
   "source": [
    "Unfortunately, finding the optimal tree is known to be an NP-Complete problem:it requires O(exp(m)) time, making the problem intractable even for fairly small training sets. This is why we must settle for a “reasonably good” solution"
   ]
  },
  {
   "cell_type": "markdown",
   "id": "9bdb9df3",
   "metadata": {},
   "source": []
  }
 ],
 "metadata": {
  "kernelspec": {
   "display_name": "Python 3 (ipykernel)",
   "language": "python",
   "name": "python3"
  },
  "language_info": {
   "codemirror_mode": {
    "name": "ipython",
    "version": 3
   },
   "file_extension": ".py",
   "mimetype": "text/x-python",
   "name": "python",
   "nbconvert_exporter": "python",
   "pygments_lexer": "ipython3",
   "version": "3.9.7"
  }
 },
 "nbformat": 4,
 "nbformat_minor": 5
}
