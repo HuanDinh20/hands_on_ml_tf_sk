{
 "cells": [
  {
   "cell_type": "markdown",
   "id": "fdb676f0",
   "metadata": {},
   "source": [
    "# Instability\n",
    "\n",
    "Decision Trees have a lot going for them: they are simple to understand and interpret, easy to use, versatile, and powerful.\n",
    "\n",
    "However they do have a few limitations:\n",
    "1. First, as you may have noticed, Decision Trees love orthogonal decision boundaries (all splits are perpendicular to an axis), which makes them sensitive to training set rotation\n",
    "\n",
    "<img src ='img11.png'>\n",
    "\n",
    "For example, Figure 6-7 shows a simple linearly separable dataset: on the left, a Decision Tree can split it easily, while\n",
    "on the right, after the dataset is rotated by 45°, the decision boundary looks unnecessarily convoluted.\n",
    "\n",
    "Although both Decision Trees fit the training set perfectly, it is very likely that the model on the right will not generalize well. One way to limit this problem is to use PCA (see Chapter 8), which often results in a better orientation of the training data\n",
    "\n",
    "2. They are very sensitive to small variations in the training data\n",
    "\n",
    "<img src ='img12.png'>\n",
    "\n",
    " For example, if you just remove the widest Iris-Versicolor from the iris training set (the one with petals 4.8 cm long and 1.8 cm wide) and train a new Decision Tree, you may get the model represented in Figure 6-8. As you can see, it looks very different from the previous Decision Tree (Figure 6-2). Actually, since the training algorithm used by Scikit-Learn is stochastic6 you may\n",
    "get very different models even on the same training data (unless you set the random_state hyperparameter)."
   ]
  },
  {
   "cell_type": "markdown",
   "id": "b293f3e6",
   "metadata": {},
   "source": [
    "Random Forests can limit this instability by averaging predictions over many trees, as\n",
    "we will see in the next chapter"
   ]
  },
  {
   "cell_type": "code",
   "execution_count": null,
   "id": "bf2ed667",
   "metadata": {},
   "outputs": [],
   "source": []
  }
 ],
 "metadata": {
  "kernelspec": {
   "display_name": "Python 3 (ipykernel)",
   "language": "python",
   "name": "python3"
  },
  "language_info": {
   "codemirror_mode": {
    "name": "ipython",
    "version": 3
   },
   "file_extension": ".py",
   "mimetype": "text/x-python",
   "name": "python",
   "nbconvert_exporter": "python",
   "pygments_lexer": "ipython3",
   "version": "3.9.7"
  }
 },
 "nbformat": 4,
 "nbformat_minor": 5
}
