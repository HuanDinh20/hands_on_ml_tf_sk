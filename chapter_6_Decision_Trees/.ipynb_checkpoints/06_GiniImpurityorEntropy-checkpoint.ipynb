{
 "cells": [
  {
   "cell_type": "markdown",
   "id": "769b22ec",
   "metadata": {},
   "source": [
    "# Gini Impurity or Entropy?\n",
    "\n",
    "By default, the Gini impurity measure is used, but you can select the entropy impurity measure instead by setting the criterion hyperparameter to \"entropy\".\n",
    "\n",
    "The concept of entropy originated in thermodynamics as a measure of molecular disorder:\n",
    "    * entropy approaches zero when molecules are still and well ordered\n",
    "    * Shannon’s information theory: entropy is zero when all messages are identical\n",
    "\n",
    "\n",
    "In Machine Learning, it is frequently used as an impurity measure: a set’s entropy is zero when it contains instances of only one class:\n",
    "\n",
    "<img src='img5.png'>\n",
    "          \n",
    "\n"
   ]
  },
  {
   "cell_type": "markdown",
   "id": "15e2d55c",
   "metadata": {},
   "source": [
    "So should you use Gini impurity or entropy? The truth is, most of the time it does not\n",
    "make a big difference: they lead to similar trees. Gini impurity is slightly faster to\n",
    "compute, so it is a good default. However, when they differ, Gini impurity tends to\n",
    "isolate the most frequent class in its own branch of the tree, while entropy tends to\n",
    "produce slightly more balanced trees."
   ]
  },
  {
   "cell_type": "code",
   "execution_count": null,
   "id": "a828adcc",
   "metadata": {},
   "outputs": [],
   "source": []
  }
 ],
 "metadata": {
  "kernelspec": {
   "display_name": "Python 3 (ipykernel)",
   "language": "python",
   "name": "python3"
  },
  "language_info": {
   "codemirror_mode": {
    "name": "ipython",
    "version": 3
   },
   "file_extension": ".py",
   "mimetype": "text/x-python",
   "name": "python",
   "nbconvert_exporter": "python",
   "pygments_lexer": "ipython3",
   "version": "3.9.7"
  }
 },
 "nbformat": 4,
 "nbformat_minor": 5
}
