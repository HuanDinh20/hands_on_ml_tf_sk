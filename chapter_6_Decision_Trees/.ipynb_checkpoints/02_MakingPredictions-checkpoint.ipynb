{
 "cells": [
  {
   "cell_type": "markdown",
   "id": "931a8f04",
   "metadata": {},
   "source": [
    "# Making Predictions\n",
    "Let’s see how the tree represented in Figure 6-1 makes predictions.\n",
    "\n",
    "<img src='img1.png' />"
   ]
  },
  {
   "cell_type": "markdown",
   "id": "5fdd3df8",
   "metadata": {},
   "source": [
    "Suppose you find an iris flower and you want to classify it. \n",
    "1. You start at the root node\n",
    "2. this node asks whether the flower’s petal length is smaller than 2.45 cm\n",
    "3. If it is, then you move down to the root’s left child node\n",
    "\n",
    "Now suppose you find another flower \n",
    "1. the petal length is greater than 2.45 cm\n",
    "2. move down to the root’s right child node\n",
    "3. is the petal width smaller than 1.75 cm?\n",
    "4. If it is, then your flower is most likely an Iris-Versicolor\n",
    "5. . If not, it is likely an Iris-Virginica\n",
    "\n",
    "` One of the many qualities of Decision Trees is that they require\n",
    "very little data preparation. In particular, they don’t require feature\n",
    "scaling or centering at all`"
   ]
  },
  {
   "cell_type": "markdown",
   "id": "a8d2d42c",
   "metadata": {},
   "source": [
    "#### Gini Impurity\n",
    "<img src='img2.png'>"
   ]
  },
  {
   "cell_type": "markdown",
   "id": "c0d9b556",
   "metadata": {},
   "source": [
    "For example, \n",
    " * 100 training instances have a petal length greater than 2.45 cm (depth 1,right)\n",
    " * 54 have a petal width smaller than 1.75 cm \n",
    " * A node’s value attribute tells you how many training instances of each class this node applies to:\n",
    "     * for example, the bottom-right node applies to 0 Iris-Setosa, 1 IrisVersicolor, and 45 Iris-Virginica\n",
    " \n",
    " *  a node’s gini attribute measures its impurity: \n",
    "     * gini = 0, the node is 'pure', all instances belong to the same class\n",
    "     * For example, the depth-2 left node: Gi = 1 - [(0/54)^2 + (49/54)^2 + (5/54)^2]\n",
    "     \n",
    "<img src='img3.png'>"
   ]
  },
  {
   "cell_type": "markdown",
   "id": "8cee2c67",
   "metadata": {},
   "source": [
    "`Scikit-Learn uses the CART algorithm, which produces only binary\n",
    "trees: nonleaf nodes always have two children (i.e., questions only\n",
    "have yes/no answers). However, other algorithms such as ID3 can\n",
    "produce Decision Trees with nodes that have more than two chil‐\n",
    "dren.`\n"
   ]
  },
  {
   "cell_type": "code",
   "execution_count": null,
   "id": "e8848cd9",
   "metadata": {},
   "outputs": [],
   "source": []
  }
 ],
 "metadata": {
  "kernelspec": {
   "display_name": "Python 3 (ipykernel)",
   "language": "python",
   "name": "python3"
  },
  "language_info": {
   "codemirror_mode": {
    "name": "ipython",
    "version": 3
   },
   "file_extension": ".py",
   "mimetype": "text/x-python",
   "name": "python",
   "nbconvert_exporter": "python",
   "pygments_lexer": "ipython3",
   "version": "3.9.7"
  }
 },
 "nbformat": 4,
 "nbformat_minor": 5
}
