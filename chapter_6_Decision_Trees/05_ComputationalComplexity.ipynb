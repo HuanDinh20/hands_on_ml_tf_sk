{
 "cells": [
  {
   "cell_type": "markdown",
   "id": "95ba50d8",
   "metadata": {},
   "source": [
    "# Computational Complexity\n",
    "Making predictions requires traversing the Decision Tree from the root to a leaf.\n",
    "\n",
    "Decision Trees are generally approximately balanced, so traversing the Decision Tree requires going through roughly O(log2(m)) nodes.\n",
    "\n",
    "Since each node only requires checking the value of one feature, the overall prediction complexity is just O(log2\n",
    "(m)), independent of the number of features. So predictions are very fast, even when dealing with large training sets.\n",
    "\n",
    "However, the training algorithm compares all features (or less if max_features is set)\n",
    "on all samples at each node. This results in a training complexity of O(n × m log(m)).\n",
    "For small training sets (less than a few thousand instances), Scikit-Learn can speed up\n",
    "training by presorting the data (set presort=True), but this slows down training considerably for larger training sets.\n",
    "\n"
   ]
  },
  {
   "cell_type": "code",
   "execution_count": null,
   "id": "d6be467b",
   "metadata": {},
   "outputs": [],
   "source": []
  }
 ],
 "metadata": {
  "kernelspec": {
   "display_name": "Python 3 (ipykernel)",
   "language": "python",
   "name": "python3"
  },
  "language_info": {
   "codemirror_mode": {
    "name": "ipython",
    "version": 3
   },
   "file_extension": ".py",
   "mimetype": "text/x-python",
   "name": "python",
   "nbconvert_exporter": "python",
   "pygments_lexer": "ipython3",
   "version": "3.9.7"
  }
 },
 "nbformat": 4,
 "nbformat_minor": 5
}
