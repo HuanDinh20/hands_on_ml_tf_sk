{
 "cells": [
  {
   "cell_type": "markdown",
   "source": [
    "# Content\n",
    "### Working with Real Data\n",
    "### Look at the Big Picture\n",
    "* Frame the Problem\n",
    "* Select Performance Measure\n",
    "* Check the Assumptions\n",
    "### Get the Data\n",
    "* Create the Workspace\n",
    "* Download the Data\n",
    "* Take a Quick Look At The Datastruture\n",
    "* Create Test Set\n",
    "### Discover and Visualize the Data to Gain the Insight\n",
    "* Visualize\n",
    "* Look for Correlations\n",
    "* Experiment with Attribute Combinations\n",
    "### Prepare Data for ML Algorithms\n",
    "* Data cleaning\n",
    "* Handling Text and Categorical Attributes\n",
    "* Custom Transformer\n",
    "* Feature Scaling\n",
    "* Transformations Pipelines\n",
    "### Select and Training Model\n",
    "* Training and Evaluating on the Training Set\n",
    "* Better Evaluation Using Cross-Validation\n",
    "### Fine-Tune Your Model\n",
    "* Grid Search\n",
    "* Randomized Search\n",
    "* Ensemble Methods\n",
    "* Analyze the best Model and their Errors\n",
    "* Evaluate Your System on the Test set\n",
    "### Launch, Monitor, and Maintain your system"
   ],
   "metadata": {
    "collapsed": false,
    "pycharm": {
     "name": "#%% md\n"
    }
   }
  },
  {
   "cell_type": "code",
   "execution_count": null,
   "outputs": [],
   "source": [],
   "metadata": {
    "collapsed": false,
    "pycharm": {
     "name": "#%%\n"
    }
   }
  }
 ],
 "metadata": {
  "kernelspec": {
   "display_name": "Python 3",
   "language": "python",
   "name": "python3"
  },
  "language_info": {
   "codemirror_mode": {
    "name": "ipython",
    "version": 2
   },
   "file_extension": ".py",
   "mimetype": "text/x-python",
   "name": "python",
   "nbconvert_exporter": "python",
   "pygments_lexer": "ipython2",
   "version": "2.7.6"
  }
 },
 "nbformat": 4,
 "nbformat_minor": 0
}